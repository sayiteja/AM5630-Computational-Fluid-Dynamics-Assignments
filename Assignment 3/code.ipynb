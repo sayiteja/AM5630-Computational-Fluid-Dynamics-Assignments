{
 "cells": [
  {
   "cell_type": "code",
   "execution_count": null,
   "metadata": {},
   "outputs": [
    {
     "ename": "",
     "evalue": "",
     "output_type": "error",
     "traceback": [
      "\u001b[1;31mThe kernel failed to start as 'InterruptiblePdb' could not be imported from 'most likely due to a circular import'.\n",
      "\u001b[1;31mClick <a href='https://aka.ms/kernelFailuresModuleImportErrFromFile'>here</a> for more info."
     ]
    }
   ],
   "source": [
    "import numpy as np\n",
    "import matplotlib.pyplot as plt"
   ]
  },
  {
   "cell_type": "code",
   "execution_count": null,
   "metadata": {},
   "outputs": [
    {
     "ename": "",
     "evalue": "",
     "output_type": "error",
     "traceback": [
      "\u001b[1;31mThe kernel failed to start as 'InterruptiblePdb' could not be imported from 'most likely due to a circular import'.\n",
      "\u001b[1;31mClick <a href='https://aka.ms/kernelFailuresModuleImportErrFromFile'>here</a> for more info."
     ]
    }
   ],
   "source": [
    "# Parameters\n",
    "nx = 41  # Number of grid points along x-axis\n",
    "ny = 21  # Number of grid points along y-axis\n",
    "Lx = 2.0  # Length of the channel along x-axis\n",
    "Ly = 1.0  # Length of the channel along y-axis\n",
    "Re = 100  # Reynolds number\n",
    "dx = Lx / (nx - 1)\n",
    "dy = Ly / (ny - 1)\n",
    "dt = 0.001  # Time step size\n",
    "tolerance = 1e-6  # Convergence tolerance\n",
    "\n",
    "# Initialize arrays\n",
    "u = np.zeros((nx, ny))  # x-velocity\n",
    "v = np.zeros((nx, ny))  # y-velocity\n",
    "psi = np.zeros((nx, ny))  # Stream function\n",
    "omega = np.zeros((nx, ny))  # Vorticity\n",
    "psi_new = np.zeros((nx, ny))  # Updated stream function\n",
    "\n",
    "# Boundary conditions\n",
    "u[:, 0] = 0  # Bottom wall\n",
    "u[:, -1] = 0  # Top wall\n",
    "u[0, :] = 1  # Inlet velocity profile\n",
    "u[-1, :] = 1  # Outlet velocity profile\n",
    "v[:, 0] = 0  # Bottom wall\n",
    "v[:, -1] = 0  # Top wall\n",
    "v[0, :] = 0  # Inlet velocity profile\n",
    "v[-1, :] = 0  # Outlet velocity profile\n",
    "\n",
    "# Main loop\n",
    "error = tolerance + 1\n",
    "while error > tolerance:\n",
    "    # Compute vorticity\n",
    "    for i in range(1, nx - 1):\n",
    "        for j in range(1, ny - 1):\n",
    "            omega[i, j] = (psi[i+1, j] - 2*psi[i, j] + psi[i-1, j]) / dx**2 + (psi[i, j+1] - 2*psi[i, j] + psi[i, j-1]) / dy**2\n",
    "\n",
    "    # Compute stream function\n",
    "    psi_new[:, :] = psi[:, :]\n",
    "    for i in range(1, nx - 1):\n",
    "        for j in range(1, ny - 1):\n",
    "            psi_new[i, j] = 0.25 * (psi[i+1, j] + psi[i-1, j] + psi[i, j+1] + psi[i, j-1] + dx**2 * omega[i, j])\n",
    "\n",
    "    # Check for convergence\n",
    "    error = np.max(np.abs(psi_new - psi))\n",
    "    psi[:, :] = psi_new\n",
    "\n",
    "# Compute velocities from stream function\n",
    "for i in range(1, nx - 1):\n",
    "    for j in range(1, ny - 1):\n",
    "        u[i, j] = (psi[i, j+1] - psi[i, j-1]) / (2 * dy)\n",
    "        v[i, j] = -(psi[i+1, j] - psi[i-1, j]) / (2 * dx)\n",
    "\n",
    "# Compute pressure\n",
    "p = np.zeros((nx, ny))\n",
    "for i in range(1, nx - 1):\n",
    "    for j in range(1, ny - 1):\n",
    "        p[i, j] = (u[i+1, j] - u[i-1, j]) / (2 * dx) + (v[i, j+1] - v[i, j-1]) / (2 * dy)\n",
    "\n",
    "# Plotting\n",
    "x = np.linspace(0, Lx, nx)\n",
    "y = np.linspace(0, Ly, ny)\n",
    "X, Y = np.meshgrid(x, y)\n",
    "\n",
    "plt.figure(figsize=(10, 5))\n",
    "\n",
    "plt.subplot(1, 2, 1)\n",
    "plt.contourf(X, Y, np.sqrt(u**2 + v**2))\n",
    "plt.colorbar(label='Velocity Magnitude')\n",
    "plt.xlabel('X')\n",
    "plt.ylabel('Y')\n",
    "plt.title('Velocity Magnitude')\n",
    "\n",
    "plt.subplot(1, 2, 2)\n",
    "plt.contourf(X, Y, p)\n",
    "plt.colorbar(label='Pressure')\n",
    "plt.xlabel('X')\n",
    "plt.ylabel('Y')\n",
    "plt.title('Pressure')\n",
    "\n",
    "plt.tight_layout()\n",
    "plt.show()\n"
   ]
  },
  {
   "cell_type": "code",
   "execution_count": null,
   "metadata": {},
   "outputs": [],
   "source": []
  }
 ],
 "metadata": {
  "kernelspec": {
   "display_name": "base",
   "language": "python",
   "name": "python3"
  },
  "language_info": {
   "name": "python",
   "version": "3.11.5"
  }
 },
 "nbformat": 4,
 "nbformat_minor": 2
}
